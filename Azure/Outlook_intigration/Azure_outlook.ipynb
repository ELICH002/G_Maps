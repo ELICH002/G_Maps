{
 "cells": [
  {
   "cell_type": "code",
   "execution_count": 1,
   "metadata": {},
   "outputs": [
    {
     "name": "stdout",
     "output_type": "stream",
     "text": [
      "An error occurred: Unable to get authority configuration for https://login.microsoftonline.com/your_tenant_id_here. Authority would typically be in a format of https://login.microsoftonline.com/your_tenant or https://tenant_name.ciamlogin.com or https://tenant_name.b2clogin.com/tenant.onmicrosoft.com/policy.  Also please double check your tenant name or GUID is correct.\n"
     ]
    }
   ],
   "source": [
    "import msal\n",
    "import requests\n",
    "import callbot_creds as cd\n",
    "\n",
    "# Replace these values with your Azure app details\n",
    "CLIENT_ID = cd.Application_client_ID\n",
    "TENANT_ID = cd.Directory_tenant_ID\n",
    "\n",
    "# Microsoft Graph API endpoint\n",
    "GRAPH_API_ENDPOINT = \"https://graph.microsoft.com/v1.0\"\n",
    "\n",
    "# Function to get an access token using Device Code Flow\n",
    "def get_access_token():\n",
    "    authority = f\"https://login.microsoftonline.com/{TENANT_ID}\"\n",
    "    app = msal.PublicClientApplication(CLIENT_ID, authority=authority)\n",
    "\n",
    "    # Initiate device code flow\n",
    "    flow = app.initiate_device_flow(scopes=[\"https://graph.microsoft.com/.default\"])\n",
    "\n",
    "    if \"user_code\" not in flow:\n",
    "        raise ValueError(\"Failed to create device flow. Check your client ID and tenant ID.\")\n",
    "\n",
    "    print(flow[\"message\"])  # This will show a message asking the user to visit a URL and input a code\n",
    "\n",
    "    # Authenticate the user by asking them to visit the URL and enter the code\n",
    "    result = app.acquire_token_by_device_flow(flow)\n",
    "\n",
    "    if \"access_token\" in result:\n",
    "        return result[\"access_token\"]\n",
    "    else:\n",
    "        raise Exception(f\"Could not acquire an access token: {result.get('error_description')}\")\n",
    "\n",
    "# Function to create an event in the Outlook calendar\n",
    "def create_calendar_event(access_token, subject, start_time, end_time, attendee_email):\n",
    "    url = f\"{GRAPH_API_ENDPOINT}/me/events\"\n",
    "    headers = {\n",
    "        'Authorization': f'Bearer {access_token}',\n",
    "        'Content-Type': 'application/json'\n",
    "    }\n",
    "\n",
    "    event_data = {\n",
    "        \"subject\": subject,\n",
    "        \"body\": {\n",
    "            \"contentType\": \"HTML\",\n",
    "            \"content\": \"This is a scheduled call with the client.\"\n",
    "        },\n",
    "        \"start\": {\n",
    "            \"dateTime\": start_time,  # Format: \"YYYY-MM-DDTHH:MM:SS\"\n",
    "            \"timeZone\": \"Eastern Standard Time\"\n",
    "        },\n",
    "        \"end\": {\n",
    "            \"dateTime\": end_time,  # Format: \"YYYY-MM-DDTHH:MM:SS\"\n",
    "            \"timeZone\": \"Eastern Standard Time\"\n",
    "        },\n",
    "        \"attendees\": [\n",
    "            {\n",
    "                \"emailAddress\": {\n",
    "                    \"address\": attendee_email,\n",
    "                    \"name\": \"Client Name\"\n",
    "                },\n",
    "                \"type\": \"required\"\n",
    "            }\n",
    "        ]\n",
    "    }\n",
    "\n",
    "    response = requests.post(url, headers=headers, json=event_data)\n",
    "\n",
    "    if response.status_code == 201:\n",
    "        print(\"Event created successfully.\")\n",
    "    else:\n",
    "        print(f\"Failed to create event. Status code: {response.status_code}\")\n",
    "        print(f\"Response: {response.text}\")\n",
    "\n",
    "# Main execution\n",
    "if __name__ == \"__main__\":\n",
    "    try:\n",
    "        # Get access token\n",
    "        token = get_access_token()\n",
    "\n",
    "        # Example event data (replace with actual data from Vapi.ai)\n",
    "        subject = \"Meeting with Client\"\n",
    "        start_time = \"2024-10-25T10:00:00\"\n",
    "        end_time = \"2024-10-25T11:00:00\"\n",
    "        attendee_email = \"clientemail@example.com\"\n",
    "\n",
    "        # Create calendar event\n",
    "        create_calendar_event(token, subject, start_time, end_time, attendee_email)\n",
    "\n",
    "    except Exception as e:\n",
    "        print(f\"An error occurred: {e}\")\n"
   ]
  },
  {
   "cell_type": "code",
   "execution_count": 6,
   "metadata": {},
   "outputs": [
    {
     "ename": "ModuleNotFoundError",
     "evalue": "No module named 'callbot_creds'",
     "output_type": "error",
     "traceback": [
      "\u001b[1;31m---------------------------------------------------------------------------\u001b[0m",
      "\u001b[1;31mModuleNotFoundError\u001b[0m                       Traceback (most recent call last)",
      "Cell \u001b[1;32mIn[6], line 3\u001b[0m\n\u001b[0;32m      1\u001b[0m \u001b[38;5;66;03m#import callbot_creds as cd\u001b[39;00m\n\u001b[1;32m----> 3\u001b[0m \u001b[38;5;28;01mimport\u001b[39;00m \u001b[38;5;21;01mcallbot_creds\u001b[39;00m\u001b[38;5;21;01m.\u001b[39;00m\u001b[38;5;21;01mpy\u001b[39;00m \u001b[38;5;28;01mas\u001b[39;00m \u001b[38;5;21;01mcd\u001b[39;00m\n\u001b[0;32m      5\u001b[0m \u001b[38;5;28mprint\u001b[39m(cd\u001b[38;5;241m.\u001b[39mauth_token)\n",
      "\u001b[1;31mModuleNotFoundError\u001b[0m: No module named 'callbot_creds'"
     ]
    }
   ],
   "source": [
    "#import callbot_creds as cd\n",
    "\n",
    "import callbot_creds.py as cd\n",
    "\n",
    "print(cd.auth_token)"
   ]
  }
 ],
 "metadata": {
  "kernelspec": {
   "display_name": "Python 3",
   "language": "python",
   "name": "python3"
  },
  "language_info": {
   "codemirror_mode": {
    "name": "ipython",
    "version": 3
   },
   "file_extension": ".py",
   "mimetype": "text/x-python",
   "name": "python",
   "nbconvert_exporter": "python",
   "pygments_lexer": "ipython3",
   "version": "3.12.6"
  }
 },
 "nbformat": 4,
 "nbformat_minor": 2
}
